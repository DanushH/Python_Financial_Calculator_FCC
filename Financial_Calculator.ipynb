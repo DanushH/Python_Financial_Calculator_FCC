{
  "nbformat": 4,
  "nbformat_minor": 0,
  "metadata": {
    "colab": {
      "provenance": []
    },
    "kernelspec": {
      "name": "python3",
      "display_name": "Python 3"
    },
    "language_info": {
      "name": "python"
    }
  },
  "cells": [
    {
      "cell_type": "code",
      "execution_count": 3,
      "metadata": {
        "id": "qpHfL9WnpxyU"
      },
      "outputs": [],
      "source": [
        "import math\n",
        "\n",
        "\n",
        "def mortgage_payment():\n",
        "    principle = float(input(\"Amount borrowed: \"))\n",
        "    rate = float(input(\"Annual percentage rate as a decimal: \"))\n",
        "    time = float(input(\"Number of years: \"))\n",
        "\n",
        "    base = 1 + rate / 12\n",
        "    exponent = 12 * time\n",
        "    numerator = rate / 12 * base ** exponent\n",
        "    denominator = (base ** exponent) - 1\n",
        "    payment = numerator / denominator\n",
        "\n",
        "    print(\"Monthly payment = $\", payment)\n",
        "\n",
        "\n",
        "def retirement_balance():\n",
        "    principle = float(input(\"Starting amount: \"))\n",
        "    rate = float(input(\"Annual percentage rate as a decimal: \"))\n",
        "    time = int(input(\"Number of years: \"))\n",
        "    monthly = float(input(\"Monthly contribution: \"))\n",
        "\n",
        "    annuity = principle\n",
        "\n",
        "    for a in range(12*time):\n",
        "        annuity = annuity + monthly\n",
        "        interest = annuity * rate / 12\n",
        "        annuity = annuity + interest\n",
        "\n",
        "    print(\"Annuity = \", annuity)\n",
        "\n",
        "\n",
        "def time_to_double():\n",
        "    rate = float(input(\"Enter the annual rate as a decimal: \\n\"))\n",
        "    time = math.log(2) / rate\n",
        "    print(\"Your money will double in \", time, \" years\")\n",
        "\n",
        "\n",
        "def rate_of_growth():\n",
        "    principle = float(input(\"Starting amount: \"))\n",
        "    time = float(input(\"Number of years: \"))\n",
        "    annuity = float(input(\"Ending amont: \"))\n",
        "\n",
        "    rate = (annuity / principle) ** (1 / time) - 1\n",
        "\n",
        "    print(\"The rate of growth is \", rate)\n",
        "\n"
      ]
    },
    {
      "cell_type": "code",
      "source": [
        "def menu():\n",
        "    print(\"1 Calculate mortgage payment - given principle, rate, time\")\n",
        "    print(\"2 Calculate retirement account balance at time of retirement\")\n",
        "    print(\"3 Calculate time required for money to double - given the rate\")\n",
        "    print(\"4 Calculate rate of growth - given starting value, time, and ending value\")\n",
        "    option = int(input(\"\\nSelect option number: \"))\n",
        "\n",
        "    if option == 1:\n",
        "        mortgage_payment()\n",
        "\n",
        "    elif option == 2:\n",
        "        retirement_balance()\n",
        "\n",
        "    elif option == 3:\n",
        "        time_to_double()\n",
        "\n",
        "    elif option == 4:\n",
        "        rate_of_growth()\n",
        "\n",
        "    else:\n",
        "        print(\"Invalid option\")\n",
        "\n"
      ],
      "metadata": {
        "id": "lrHNpPtIqC88"
      },
      "execution_count": 9,
      "outputs": []
    },
    {
      "cell_type": "code",
      "source": [
        "menu()"
      ],
      "metadata": {
        "colab": {
          "base_uri": "https://localhost:8080/"
        },
        "id": "8Yc8UGm2simm",
        "outputId": "f662ee43-f256-4744-8b41-4d7621f4ec27"
      },
      "execution_count": 10,
      "outputs": [
        {
          "output_type": "stream",
          "name": "stdout",
          "text": [
            "1 Calculate mortgage payment - given principle, rate, time\n",
            "2 Calculate retirement account balance at time of retirement\n",
            "3 Calculate time required for money to double - given the rate\n",
            "4 Calculate rate of growth - given starting value, time, and ending value\n",
            "\n",
            "Select option number: 1\n",
            "Amount borrowed: 5000\n",
            "Annual percentage rate as a decimal: 0.25\n",
            "Number of years: 30\n",
            "Monthly payment = $ 0.020845786360269784\n"
          ]
        }
      ]
    }
  ]
}